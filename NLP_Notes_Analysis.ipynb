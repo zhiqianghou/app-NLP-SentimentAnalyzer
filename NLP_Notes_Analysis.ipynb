{
 "cells": [
  {
   "cell_type": "markdown",
   "id": "b3d87488-d00e-49eb-8562-553e6daf5273",
   "metadata": {},
   "source": [
    "# Load the book"
   ]
  },
  {
   "cell_type": "code",
   "execution_count": 1,
   "id": "944827c2-d2e1-44de-81de-f7048b9fec89",
   "metadata": {},
   "outputs": [],
   "source": [
    "with open(\"miracle_in_the_andes.txt\", 'r') as file:\n",
    "    book = file.read()"
   ]
  },
  {
   "cell_type": "code",
   "execution_count": 3,
   "id": "2886293e-8981-4761-8651-849fe210480c",
   "metadata": {},
   "outputs": [
    {
     "data": {
      "text/plain": [
       "str"
      ]
     },
     "execution_count": 3,
     "metadata": {},
     "output_type": "execute_result"
    }
   ],
   "source": [
    "type(book)"
   ]
  },
  {
   "cell_type": "markdown",
   "id": "063506e1-d203-4111-9fb1-dea5f6e5537a",
   "metadata": {},
   "source": [
    "# How many chapters?"
   ]
  },
  {
   "cell_type": "markdown",
   "id": "a9f97a98-9d4e-48c0-9ebf-707bf59fbf86",
   "metadata": {},
   "source": [
    "### With string methods"
   ]
  },
  {
   "cell_type": "code",
   "execution_count": 23,
   "id": "4bfe16ba-2c54-4913-9ef0-26eb9b4f2adb",
   "metadata": {},
   "outputs": [
    {
     "data": {
      "text/plain": [
       "11"
      ]
     },
     "execution_count": 23,
     "metadata": {},
     "output_type": "execute_result"
    }
   ],
   "source": [
    "book.count(\"Chapter\") # 10 chapters, one chapter embedded in the content"
   ]
  },
  {
   "cell_type": "markdown",
   "id": "f42d0b34-9b8a-4747-b1a8-aa471ff75253",
   "metadata": {},
   "source": [
    "### With regular express (regex)"
   ]
  },
  {
   "cell_type": "code",
   "execution_count": 5,
   "id": "d38d35f1-b0e8-4fcc-9fd4-811b745e5bcd",
   "metadata": {},
   "outputs": [],
   "source": [
    "import re"
   ]
  },
  {
   "cell_type": "code",
   "execution_count": 27,
   "id": "6cda359e-4478-4f1c-920d-d6de52525862",
   "metadata": {},
   "outputs": [
    {
     "data": {
      "text/plain": [
       "re.compile(r'Chapter [0-9]+', re.UNICODE)"
      ]
     },
     "execution_count": 27,
     "metadata": {},
     "output_type": "execute_result"
    }
   ],
   "source": [
    "pattern = re.compile(\"Chapter [0-9]+\") #\n",
    "pattern"
   ]
  },
  {
   "cell_type": "code",
   "execution_count": 33,
   "id": "7d3187c3-4caa-48cd-8df5-14010202cb83",
   "metadata": {},
   "outputs": [
    {
     "data": {
      "text/plain": [
       "['Chapter 8', 'Chapter 9', 'Chapter 10']"
      ]
     },
     "execution_count": 33,
     "metadata": {},
     "output_type": "execute_result"
    }
   ],
   "source": [
    "re.findall(pattern, book)[7:10]"
   ]
  },
  {
   "cell_type": "code",
   "execution_count": 31,
   "id": "1b97a041-cbfa-4f94-990a-a739ad14a218",
   "metadata": {},
   "outputs": [
    {
     "data": {
      "text/plain": [
       "10"
      ]
     },
     "execution_count": 31,
     "metadata": {},
     "output_type": "execute_result"
    }
   ],
   "source": [
    "findings = re.findall(pattern, book)\n",
    "len(findings)"
   ]
  },
  {
   "cell_type": "markdown",
   "id": "e2692dbe-aa21-401a-ae73-969a107709cd",
   "metadata": {},
   "source": [
    "# Find all sentences containing \"love\""
   ]
  },
  {
   "cell_type": "code",
   "execution_count": 46,
   "id": "9217513f-0e40-4f22-a50a-43f44f31a6d8",
   "metadata": {},
   "outputs": [
    {
     "data": {
      "text/plain": [
       "49"
      ]
     },
     "execution_count": 46,
     "metadata": {},
     "output_type": "execute_result"
    }
   ],
   "source": [
    "pattern = re.compile(\"[^.]* love [^.]*.\") # ^除了, [^.]*. 所有开头不是.但是末尾是句号.\n",
    "finding = re.findall(pattern, book)\n",
    "len(finding) #结果不对，因为还有一种情况，love跟着一个,"
   ]
  },
  {
   "cell_type": "code",
   "execution_count": 49,
   "id": "4004e435-8b62-4e8f-b3e9-912db6f3abfb",
   "metadata": {},
   "outputs": [
    {
     "data": {
      "text/plain": [
       "[' As a young man, of course, I could not put these things into words, but I knew, and my teammates knew, that there was something special about the game, and under the guidance of the Christian Brothers we developed a passionate love for the sport that shaped our friendships and our lives.']"
      ]
     },
     "execution_count": 49,
     "metadata": {},
     "output_type": "execute_result"
    }
   ],
   "source": [
    "# Fine tune the above pattern.\n",
    "pattern = re.compile(\"[^.]* love[^a-zA-Z]+[^.]*.\")\n",
    "findings = re.findall(pattern, book)\n",
    "len(findings)\n",
    "findings[:1] #there is a space in the beginning."
   ]
  },
  {
   "cell_type": "code",
   "execution_count": 52,
   "id": "d118a705-fb7d-4b6c-b5f4-1e91c57ff648",
   "metadata": {},
   "outputs": [
    {
     "data": {
      "text/plain": [
       "['As a young man, of course, I could not put these things into words, but I knew, and my teammates knew, that there was something special about the game, and under the guidance of the Christian Brothers we developed a passionate love for the sport that shaped our friendships and our lives.']"
      ]
     },
     "execution_count": 52,
     "metadata": {},
     "output_type": "execute_result"
    }
   ],
   "source": [
    "# Finer tuning\n",
    "pattern = re.compile(\"[A-Z]{1}[^.]* love[^a-zA-Z]+[^.]*.\") #开头大写,{1}只有一次\n",
    "findings = re.findall(pattern, book)\n",
    "findings[:1]"
   ]
  },
  {
   "cell_type": "markdown",
   "id": "9c34e0e1-c076-48cb-8292-91fb21e4fca1",
   "metadata": {
    "tags": []
   },
   "source": [
    "# Find the paragraphs containing \"love\""
   ]
  },
  {
   "cell_type": "code",
   "execution_count": 85,
   "id": "e06a2e5a-7353-4409-848c-91d400d7ec7d",
   "metadata": {},
   "outputs": [
    {
     "data": {
      "text/plain": [
       "['To me, this is the essence of rugby. No other sport gives you such an intense sense of selflessness and unified purpose. I believe this is why rugby players all over the world feel such a passion for the game and such a feeling of brotherhood. As a young man, of course, I could not put these things into words, but I knew, and my teammates knew, that there was something special about the game, and under the guidance of the Christian Brothers we developed a passionate love for the sport that shaped our friendships and our lives. For eight years we played our hearts out for the Christian Brothers—a brotherhood of young boys with Latin names, playing a game with deep Anglo roots under Uruguay’s sunny skies, and proudly wearing the bright green shamrock on our uniforms. The game became so much a part of our lives, in fact, that when we graduated from Stella Maris at the age of sixteen, many of us could not bear the thought that our playing days were over. Our salvation came in the form of the Old Christians Club, a private rugby team formed in 1965 by previous alumni of the Stella Maris rugby program to give Stella Maris ruggers a chance to continue playing the game after our school years ended.']"
      ]
     },
     "execution_count": 85,
     "metadata": {},
     "output_type": "execute_result"
    }
   ],
   "source": [
    "pattern = re.compile(\"[^\\n]+ love[^\\n]+\")\n",
    "findings = re.findall(pattern, book)\n",
    "findings[:1]"
   ]
  },
  {
   "cell_type": "markdown",
   "id": "257f6c6d-9554-4cb4-810f-985383af819e",
   "metadata": {},
   "source": [
    "# Find all chapter titles"
   ]
  },
  {
   "cell_type": "markdown",
   "id": "217b45de-ea92-4fb4-b53f-f438a341d82f",
   "metadata": {},
   "source": [
    "### Method 1"
   ]
  },
  {
   "cell_type": "code",
   "execution_count": 86,
   "id": "e5ea6432-a80c-453c-ad10-f6723e606776",
   "metadata": {},
   "outputs": [
    {
     "data": {
      "text/plain": [
       "['Before',\n",
       " 'Everything Precious',\n",
       " 'A Promise',\n",
       " 'Breathe Once More',\n",
       " 'Abandoned',\n",
       " 'Tomb',\n",
       " 'East',\n",
       " 'The Opposite of Death',\n",
       " 'I See a Man',\n",
       " 'After']"
      ]
     },
     "execution_count": 86,
     "metadata": {},
     "output_type": "execute_result"
    }
   ],
   "source": [
    "pattern = re.compile(\"[a-zA-Z ,]+\\n\\n\")\n",
    "findings = re.findall(pattern, book)\n",
    "findings = [item.strip(\"\\n\\n\") for item in findings]\n",
    "findings"
   ]
  },
  {
   "cell_type": "markdown",
   "id": "0401103a-9655-48a2-9847-a3cb2a169f65",
   "metadata": {},
   "source": [
    "### Method 2"
   ]
  },
  {
   "cell_type": "code",
   "execution_count": 88,
   "id": "63dc586f-6461-4939-a231-1023bbf629dc",
   "metadata": {},
   "outputs": [
    {
     "data": {
      "text/plain": [
       "['Before',\n",
       " 'Everything Precious',\n",
       " 'A Promise',\n",
       " 'Breathe Once More',\n",
       " 'Abandoned',\n",
       " 'Tomb',\n",
       " 'East',\n",
       " 'The Opposite of Death',\n",
       " 'I See a Man',\n",
       " 'After']"
      ]
     },
     "execution_count": 88,
     "metadata": {},
     "output_type": "execute_result"
    }
   ],
   "source": [
    "pattern = re.compile(\"([a-zA-Z ,]+)\\n\\n\") # ()只返回括号里的\n",
    "findings = re.findall(pattern, book)\n",
    "findings"
   ]
  },
  {
   "cell_type": "markdown",
   "id": "d5fc8983-b96a-442e-8cf2-c93dad16a542",
   "metadata": {},
   "source": [
    "# The most used words in book"
   ]
  },
  {
   "cell_type": "code",
   "execution_count": 67,
   "id": "0d5fc4c3-6e04-44ae-8697-d215c71d3da0",
   "metadata": {},
   "outputs": [
    {
     "data": {
      "text/plain": [
       "['chapter', 'before', 'it', 'was', 'friday', 'the', 'thirteenth', 'of']"
      ]
     },
     "execution_count": 67,
     "metadata": {},
     "output_type": "execute_result"
    }
   ],
   "source": [
    "pattern = re.compile(\"[a-zA-Z]+\")\n",
    "findings = re.findall(pattern, book.lower())\n",
    "len(findings)\n",
    "findings[:8]"
   ]
  },
  {
   "cell_type": "code",
   "execution_count": 68,
   "id": "118b7b68-f85a-441e-91e7-15a377f43525",
   "metadata": {},
   "outputs": [],
   "source": [
    "# Count words\n",
    "dic = {}\n",
    "for word in findings:\n",
    "    if word not in dic:\n",
    "        dic[word] = 1\n",
    "    else:\n",
    "        dic[word] += 1\n",
    "    "
   ]
  },
  {
   "cell_type": "code",
   "execution_count": 78,
   "id": "5a6438b8-e2ec-4df1-85ec-ed5a74d301df",
   "metadata": {},
   "outputs": [
    {
     "data": {
      "text/plain": [
       "[(5346, 'the'),\n",
       " (2795, 'and'),\n",
       " (2729, 'i'),\n",
       " (2400, 'to'),\n",
       " (2060, 'of'),\n",
       " (1566, 'a'),\n",
       " (1430, 'was'),\n",
       " (1419, 'in'),\n",
       " (1226, 'we'),\n",
       " (1169, 'my')]"
      ]
     },
     "execution_count": 78,
     "metadata": {},
     "output_type": "execute_result"
    }
   ],
   "source": [
    "dic_list = [(val, key) for key, val in dic.items()]\n",
    "sorted(dic_list, reverse=True)[:10]"
   ]
  },
  {
   "cell_type": "markdown",
   "id": "08bdfb73-c688-44c3-b4ec-c937f534c057",
   "metadata": {},
   "source": [
    "# Define function to find the occurrence of the word"
   ]
  },
  {
   "cell_type": "code",
   "execution_count": 89,
   "id": "dfbd2bc9-0ac3-4bd5-819b-c92606df0ea7",
   "metadata": {},
   "outputs": [],
   "source": [
    "def find(w):\n",
    "    pattern = re.compile(\"[a-zA-Z]+\")\n",
    "    findings = re.findall(pattern, book.lower())\n",
    "    dic = {}\n",
    "    for word in findings:\n",
    "        if word not in dic:\n",
    "            dic[word] = 1\n",
    "        else:\n",
    "            dic[word] += 1\n",
    "    try:\n",
    "        return dic[w]\n",
    "    except:\n",
    "        return f\"The book does not contain the word {w}\"\n"
   ]
  },
  {
   "cell_type": "code",
   "execution_count": 90,
   "id": "40ee1b1c-37df-4c53-b74a-6a2d728c5341",
   "metadata": {},
   "outputs": [
    {
     "data": {
      "text/plain": [
       "83"
      ]
     },
     "execution_count": 90,
     "metadata": {},
     "output_type": "execute_result"
    }
   ],
   "source": [
    "find(\"love\")"
   ]
  },
  {
   "cell_type": "code",
   "execution_count": 91,
   "id": "153f7ca0-1f4a-46a2-a03a-2293bcac3e23",
   "metadata": {},
   "outputs": [
    {
     "data": {
      "text/plain": [
       "'The book does not contain the word hate'"
      ]
     },
     "execution_count": 91,
     "metadata": {},
     "output_type": "execute_result"
    }
   ],
   "source": [
    "find(\"hate\")"
   ]
  },
  {
   "cell_type": "markdown",
   "id": "ba229a8b-3a69-448a-b5ad-ff616715e686",
   "metadata": {},
   "source": [
    "# NLP Intelligent Method"
   ]
  },
  {
   "cell_type": "markdown",
   "id": "0cf0a3d4-0909-4f61-9836-aaa4b612d469",
   "metadata": {},
   "source": [
    "## The most used words (non-articles)"
   ]
  },
  {
   "cell_type": "code",
   "execution_count": 111,
   "id": "31707989-7c9b-418f-8b3e-9c206b503e07",
   "metadata": {},
   "outputs": [
    {
     "data": {
      "text/plain": [
       "'3.9.7'"
      ]
     },
     "execution_count": 111,
     "metadata": {},
     "output_type": "execute_result"
    }
   ],
   "source": [
    "# or pip install nltk library\n",
    "\n",
    "# First check python version Jupyter lab is using\n",
    "from platform import python_version\n",
    "python_version()\n",
    "\n",
    "# pip3.9 install nltk"
   ]
  },
  {
   "cell_type": "code",
   "execution_count": 121,
   "id": "5f95df98-b5ec-4a3b-b5ec-3848308155eb",
   "metadata": {},
   "outputs": [
    {
     "name": "stdout",
     "output_type": "stream",
     "text": [
      "3.7\n"
     ]
    },
    {
     "name": "stderr",
     "output_type": "stream",
     "text": [
      "[nltk_data] Downloading package stopwords to /Users/zhou/nltk_data...\n",
      "[nltk_data]   Package stopwords is already up-to-date!\n"
     ]
    },
    {
     "data": {
      "text/plain": [
       "True"
      ]
     },
     "execution_count": 121,
     "metadata": {},
     "output_type": "execute_result"
    }
   ],
   "source": [
    "import nltk\n",
    "print(nltk.__version__)\n",
    "nltk.download(\"stopwords\")"
   ]
  },
  {
   "cell_type": "code",
   "execution_count": 120,
   "id": "eb2b57aa-af41-4712-95c3-0c16d3e9517b",
   "metadata": {},
   "outputs": [
    {
     "data": {
      "text/plain": [
       "['i', 'me', 'my', 'myself', 'we', 'our', 'ours', 'ourselves']"
      ]
     },
     "execution_count": 120,
     "metadata": {},
     "output_type": "execute_result"
    }
   ],
   "source": [
    "from nltk.corpus import stopwords\n",
    "eng_stopwords = stopwords.words(\"english\")\n",
    "eng_stopwords[:8]"
   ]
  },
  {
   "cell_type": "markdown",
   "id": "58676987-fdaa-4b19-9db8-3323246abb0a",
   "metadata": {},
   "source": [
    "# Filter book words by the eng_stopwords"
   ]
  },
  {
   "cell_type": "code",
   "execution_count": 127,
   "id": "fc23a0d4-2aba-4107-80df-93a9df85600f",
   "metadata": {},
   "outputs": [],
   "source": [
    "filtered_words = []\n",
    "for count, word in dic_list:\n",
    "    if word not in eng_stopwords:\n",
    "        filtered_words.append((word, count))\n"
   ]
  },
  {
   "cell_type": "code",
   "execution_count": 129,
   "id": "28c6511d-116e-44b7-8e26-f4e4eb4c6eac",
   "metadata": {},
   "outputs": [
    {
     "data": {
      "text/plain": [
       "[('chapter', 11), ('friday', 1), ('thirteenth', 1)]"
      ]
     },
     "execution_count": 129,
     "metadata": {},
     "output_type": "execute_result"
    }
   ],
   "source": [
    "filtered_words[:3]"
   ]
  },
  {
   "cell_type": "markdown",
   "id": "d6432e9b-4522-4e49-984c-4525085d1ca5",
   "metadata": {
    "tags": []
   },
   "source": [
    "# Sentiment Analysis: What is the most positive and the most negative chapter"
   ]
  },
  {
   "cell_type": "markdown",
   "id": "65f4a682-ce7a-4c1a-b797-c59f7fe8a5cb",
   "metadata": {},
   "source": [
    "### An example"
   ]
  },
  {
   "cell_type": "code",
   "execution_count": 130,
   "id": "e9b0781f-1439-468b-a102-495e88932537",
   "metadata": {},
   "outputs": [],
   "source": [
    "from nltk.sentiment import SentimentIntensityAnalyzer"
   ]
  },
  {
   "cell_type": "code",
   "execution_count": 133,
   "id": "f2bfe3ba-6b6e-42fb-ab98-0b4460507a4e",
   "metadata": {},
   "outputs": [
    {
     "name": "stderr",
     "output_type": "stream",
     "text": [
      "[nltk_data] Downloading package vader_lexicon to\n",
      "[nltk_data]     /Users/zhou/nltk_data...\n"
     ]
    }
   ],
   "source": [
    "nltk.download(\"vader_lexicon\")\n",
    "analyzer = SentimentIntensityAnalyzer()"
   ]
  },
  {
   "cell_type": "code",
   "execution_count": 135,
   "id": "338d348f-3494-4f55-9112-719bb2497d2c",
   "metadata": {},
   "outputs": [
    {
     "data": {
      "text/plain": [
       "['__class__',\n",
       " '__delattr__',\n",
       " '__dict__',\n",
       " '__dir__',\n",
       " '__doc__',\n",
       " '__eq__',\n",
       " '__format__',\n",
       " '__ge__',\n",
       " '__getattribute__',\n",
       " '__gt__',\n",
       " '__hash__',\n",
       " '__init__',\n",
       " '__init_subclass__',\n",
       " '__le__',\n",
       " '__lt__',\n",
       " '__module__',\n",
       " '__ne__',\n",
       " '__new__',\n",
       " '__reduce__',\n",
       " '__reduce_ex__',\n",
       " '__repr__',\n",
       " '__setattr__',\n",
       " '__sizeof__',\n",
       " '__str__',\n",
       " '__subclasshook__',\n",
       " '__weakref__',\n",
       " '_amplify_ep',\n",
       " '_amplify_qm',\n",
       " '_but_check',\n",
       " '_idioms_check',\n",
       " '_least_check',\n",
       " '_never_check',\n",
       " '_punctuation_emphasis',\n",
       " '_sift_sentiment_scores',\n",
       " 'constants',\n",
       " 'lexicon',\n",
       " 'lexicon_file',\n",
       " 'make_lex_dict',\n",
       " 'polarity_scores',\n",
       " 'score_valence',\n",
       " 'sentiment_valence']"
      ]
     },
     "execution_count": 135,
     "metadata": {},
     "output_type": "execute_result"
    }
   ],
   "source": [
    "dir(analyzer)"
   ]
  },
  {
   "cell_type": "code",
   "execution_count": 136,
   "id": "4c040970-f3bf-432e-ab8b-d10a8b4604db",
   "metadata": {},
   "outputs": [
    {
     "data": {
      "text/plain": [
       "{'neg': 0.0, 'neu': 0.418, 'pos': 0.582, 'compound': 0.8945}"
      ]
     },
     "execution_count": 136,
     "metadata": {},
     "output_type": "execute_result"
    }
   ],
   "source": [
    "analyzer.polarity_scores(\"Hey, the scenery is so beautiful, I really love here\")"
   ]
  },
  {
   "cell_type": "markdown",
   "id": "eea34b21-cafa-4b1b-99b6-f7db5bca8e94",
   "metadata": {},
   "source": [
    "### Chapters Sentiment Analyzer"
   ]
  },
  {
   "cell_type": "code",
   "execution_count": 137,
   "id": "dd669c97-f2e8-4a32-9754-8ce340cbb10b",
   "metadata": {},
   "outputs": [],
   "source": [
    "pattern = re.compile(\"Chapter [0-9]+\")\n",
    "chapters = re.split(pattern, book)"
   ]
  },
  {
   "cell_type": "code",
   "execution_count": 141,
   "id": "28b0484c-3ed1-44bb-b680-2ee0598be71b",
   "metadata": {},
   "outputs": [
    {
     "name": "stdout",
     "output_type": "stream",
     "text": [
      "11\n"
     ]
    }
   ],
   "source": [
    "print(len(chapters))\n",
    "#chapters"
   ]
  },
  {
   "cell_type": "code",
   "execution_count": 142,
   "id": "48de3b3e-e24d-43c6-920f-2d46438aeff8",
   "metadata": {},
   "outputs": [],
   "source": [
    "chapters = chapters[1:]"
   ]
  },
  {
   "cell_type": "code",
   "execution_count": 144,
   "id": "4af36b2c-3214-4497-abeb-2cd4de423c77",
   "metadata": {},
   "outputs": [
    {
     "name": "stdout",
     "output_type": "stream",
     "text": [
      "Chapter 1 Polarity Score is {'neg': 0.061, 'neu': 0.779, 'pos': 0.16, 'compound': 1.0}\n",
      "Chapter 2 Polarity Score is {'neg': 0.12, 'neu': 0.726, 'pos': 0.154, 'compound': 0.9991}\n",
      "Chapter 3 Polarity Score is {'neg': 0.145, 'neu': 0.751, 'pos': 0.105, 'compound': -0.9999}\n",
      "Chapter 4 Polarity Score is {'neg': 0.141, 'neu': 0.721, 'pos': 0.138, 'compound': -0.9963}\n",
      "Chapter 5 Polarity Score is {'neg': 0.118, 'neu': 0.742, 'pos': 0.141, 'compound': 0.9997}\n",
      "Chapter 6 Polarity Score is {'neg': 0.124, 'neu': 0.761, 'pos': 0.115, 'compound': -0.9979}\n",
      "Chapter 7 Polarity Score is {'neg': 0.136, 'neu': 0.761, 'pos': 0.103, 'compound': -0.9999}\n",
      "Chapter 8 Polarity Score is {'neg': 0.12, 'neu': 0.786, 'pos': 0.094, 'compound': -0.9998}\n",
      "Chapter 9 Polarity Score is {'neg': 0.097, 'neu': 0.824, 'pos': 0.079, 'compound': -0.9996}\n",
      "Chapter 10 Polarity Score is {'neg': 0.086, 'neu': 0.733, 'pos': 0.181, 'compound': 1.0}\n"
     ]
    }
   ],
   "source": [
    "for num, chapter in enumerate(chapters):\n",
    "    score = analyzer.polarity_scores(chapter)\n",
    "    print(f\"Chapter {num+1} Polarity Score is {score}\")"
   ]
  },
  {
   "cell_type": "code",
   "execution_count": null,
   "id": "b339a3a3-a322-428e-9a0a-30297940991e",
   "metadata": {},
   "outputs": [],
   "source": []
  }
 ],
 "metadata": {
  "kernelspec": {
   "display_name": "Python 3 (ipykernel)",
   "language": "python",
   "name": "python3"
  },
  "language_info": {
   "codemirror_mode": {
    "name": "ipython",
    "version": 3
   },
   "file_extension": ".py",
   "mimetype": "text/x-python",
   "name": "python",
   "nbconvert_exporter": "python",
   "pygments_lexer": "ipython3",
   "version": "3.9.7"
  }
 },
 "nbformat": 4,
 "nbformat_minor": 5
}
