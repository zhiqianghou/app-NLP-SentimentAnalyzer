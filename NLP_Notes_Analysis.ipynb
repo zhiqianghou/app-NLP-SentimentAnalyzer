{
 "cells": [
  {
   "cell_type": "markdown",
   "id": "b3d87488-d00e-49eb-8562-553e6daf5273",
   "metadata": {},
   "source": [
    "# Load the book"
   ]
  },
  {
   "cell_type": "code",
   "execution_count": 1,
   "id": "944827c2-d2e1-44de-81de-f7048b9fec89",
   "metadata": {},
   "outputs": [],
   "source": [
    "with open(\"miracle_in_the_andes.txt\", 'r') as file:\n",
    "    book = file.read()"
   ]
  },
  {
   "cell_type": "code",
   "execution_count": 3,
   "id": "2886293e-8981-4761-8651-849fe210480c",
   "metadata": {},
   "outputs": [
    {
     "data": {
      "text/plain": [
       "str"
      ]
     },
     "execution_count": 3,
     "metadata": {},
     "output_type": "execute_result"
    }
   ],
   "source": [
    "type(book)"
   ]
  },
  {
   "cell_type": "markdown",
   "id": "063506e1-d203-4111-9fb1-dea5f6e5537a",
   "metadata": {},
   "source": [
    "# How many chapters?"
   ]
  },
  {
   "cell_type": "markdown",
   "id": "a9f97a98-9d4e-48c0-9ebf-707bf59fbf86",
   "metadata": {},
   "source": [
    "### With string methods"
   ]
  },
  {
   "cell_type": "code",
   "execution_count": 23,
   "id": "4bfe16ba-2c54-4913-9ef0-26eb9b4f2adb",
   "metadata": {},
   "outputs": [
    {
     "data": {
      "text/plain": [
       "11"
      ]
     },
     "execution_count": 23,
     "metadata": {},
     "output_type": "execute_result"
    }
   ],
   "source": [
    "book.count(\"Chapter\") # 10 chapters, one chapter embedded in the content"
   ]
  },
  {
   "cell_type": "markdown",
   "id": "f42d0b34-9b8a-4747-b1a8-aa471ff75253",
   "metadata": {},
   "source": [
    "### With regular express (regex)"
   ]
  },
  {
   "cell_type": "code",
   "execution_count": 5,
   "id": "d38d35f1-b0e8-4fcc-9fd4-811b745e5bcd",
   "metadata": {},
   "outputs": [],
   "source": [
    "import re"
   ]
  },
  {
   "cell_type": "code",
   "execution_count": 27,
   "id": "6cda359e-4478-4f1c-920d-d6de52525862",
   "metadata": {},
   "outputs": [
    {
     "data": {
      "text/plain": [
       "re.compile(r'Chapter [0-9]+', re.UNICODE)"
      ]
     },
     "execution_count": 27,
     "metadata": {},
     "output_type": "execute_result"
    }
   ],
   "source": [
    "pattern = re.compile(\"Chapter [0-9]+\") #\n",
    "pattern"
   ]
  },
  {
   "cell_type": "code",
   "execution_count": 33,
   "id": "7d3187c3-4caa-48cd-8df5-14010202cb83",
   "metadata": {},
   "outputs": [
    {
     "data": {
      "text/plain": [
       "['Chapter 8', 'Chapter 9', 'Chapter 10']"
      ]
     },
     "execution_count": 33,
     "metadata": {},
     "output_type": "execute_result"
    }
   ],
   "source": [
    "re.findall(pattern, book)[7:10]"
   ]
  },
  {
   "cell_type": "code",
   "execution_count": 31,
   "id": "1b97a041-cbfa-4f94-990a-a739ad14a218",
   "metadata": {},
   "outputs": [
    {
     "data": {
      "text/plain": [
       "10"
      ]
     },
     "execution_count": 31,
     "metadata": {},
     "output_type": "execute_result"
    }
   ],
   "source": [
    "findings = re.findall(pattern, book)\n",
    "len(findings)"
   ]
  },
  {
   "cell_type": "markdown",
   "id": "e2692dbe-aa21-401a-ae73-969a107709cd",
   "metadata": {},
   "source": [
    "# Find all sentences containing \"love\""
   ]
  },
  {
   "cell_type": "code",
   "execution_count": 46,
   "id": "9217513f-0e40-4f22-a50a-43f44f31a6d8",
   "metadata": {},
   "outputs": [
    {
     "data": {
      "text/plain": [
       "49"
      ]
     },
     "execution_count": 46,
     "metadata": {},
     "output_type": "execute_result"
    }
   ],
   "source": [
    "pattern = re.compile(\"[^.]* love [^.]*.\") # ^除了, [^.]*. 所有开头不是.但是末尾是句号.\n",
    "finding = re.findall(pattern, book)\n",
    "len(finding) #结果不对，因为还有一种情况，love跟着一个,"
   ]
  },
  {
   "cell_type": "code",
   "execution_count": 49,
   "id": "4004e435-8b62-4e8f-b3e9-912db6f3abfb",
   "metadata": {},
   "outputs": [
    {
     "data": {
      "text/plain": [
       "[' As a young man, of course, I could not put these things into words, but I knew, and my teammates knew, that there was something special about the game, and under the guidance of the Christian Brothers we developed a passionate love for the sport that shaped our friendships and our lives.']"
      ]
     },
     "execution_count": 49,
     "metadata": {},
     "output_type": "execute_result"
    }
   ],
   "source": [
    "# Fine tune the above pattern.\n",
    "pattern = re.compile(\"[^.]* love[^a-zA-Z]+[^.]*.\")\n",
    "findings = re.findall(pattern, book)\n",
    "len(findings)\n",
    "findings[:1] #there is a space in the beginning."
   ]
  },
  {
   "cell_type": "code",
   "execution_count": 52,
   "id": "d118a705-fb7d-4b6c-b5f4-1e91c57ff648",
   "metadata": {},
   "outputs": [
    {
     "data": {
      "text/plain": [
       "['As a young man, of course, I could not put these things into words, but I knew, and my teammates knew, that there was something special about the game, and under the guidance of the Christian Brothers we developed a passionate love for the sport that shaped our friendships and our lives.']"
      ]
     },
     "execution_count": 52,
     "metadata": {},
     "output_type": "execute_result"
    }
   ],
   "source": [
    "# Finer tuning\n",
    "pattern = re.compile(\"[A-Z]{1}[^.]* love[^a-zA-Z]+[^.]*.\") #开头大写,{1}只有一次\n",
    "findings = re.findall(pattern, book)\n",
    "findings[:1]"
   ]
  },
  {
   "cell_type": "markdown",
   "id": "9c34e0e1-c076-48cb-8292-91fb21e4fca1",
   "metadata": {
    "tags": []
   },
   "source": [
    "# Find the paragraphs containing \"love\""
   ]
  },
  {
   "cell_type": "code",
   "execution_count": 85,
   "id": "e06a2e5a-7353-4409-848c-91d400d7ec7d",
   "metadata": {},
   "outputs": [
    {
     "data": {
      "text/plain": [
       "['To me, this is the essence of rugby. No other sport gives you such an intense sense of selflessness and unified purpose. I believe this is why rugby players all over the world feel such a passion for the game and such a feeling of brotherhood. As a young man, of course, I could not put these things into words, but I knew, and my teammates knew, that there was something special about the game, and under the guidance of the Christian Brothers we developed a passionate love for the sport that shaped our friendships and our lives. For eight years we played our hearts out for the Christian Brothers—a brotherhood of young boys with Latin names, playing a game with deep Anglo roots under Uruguay’s sunny skies, and proudly wearing the bright green shamrock on our uniforms. The game became so much a part of our lives, in fact, that when we graduated from Stella Maris at the age of sixteen, many of us could not bear the thought that our playing days were over. Our salvation came in the form of the Old Christians Club, a private rugby team formed in 1965 by previous alumni of the Stella Maris rugby program to give Stella Maris ruggers a chance to continue playing the game after our school years ended.']"
      ]
     },
     "execution_count": 85,
     "metadata": {},
     "output_type": "execute_result"
    }
   ],
   "source": [
    "pattern = re.compile(\"[^\\n]+ love[^\\n]+\")\n",
    "findings = re.findall(pattern, book)\n",
    "findings[:1]"
   ]
  },
  {
   "cell_type": "markdown",
   "id": "257f6c6d-9554-4cb4-810f-985383af819e",
   "metadata": {},
   "source": [
    "# Find all chapter titles"
   ]
  },
  {
   "cell_type": "markdown",
   "id": "217b45de-ea92-4fb4-b53f-f438a341d82f",
   "metadata": {},
   "source": [
    "### Method 1"
   ]
  },
  {
   "cell_type": "code",
   "execution_count": 86,
   "id": "e5ea6432-a80c-453c-ad10-f6723e606776",
   "metadata": {},
   "outputs": [
    {
     "data": {
      "text/plain": [
       "['Before',\n",
       " 'Everything Precious',\n",
       " 'A Promise',\n",
       " 'Breathe Once More',\n",
       " 'Abandoned',\n",
       " 'Tomb',\n",
       " 'East',\n",
       " 'The Opposite of Death',\n",
       " 'I See a Man',\n",
       " 'After']"
      ]
     },
     "execution_count": 86,
     "metadata": {},
     "output_type": "execute_result"
    }
   ],
   "source": [
    "pattern = re.compile(\"[a-zA-Z ,]+\\n\\n\")\n",
    "findings = re.findall(pattern, book)\n",
    "findings = [item.strip(\"\\n\\n\") for item in findings]\n",
    "findings"
   ]
  },
  {
   "cell_type": "markdown",
   "id": "0401103a-9655-48a2-9847-a3cb2a169f65",
   "metadata": {},
   "source": [
    "### Method 2"
   ]
  },
  {
   "cell_type": "code",
   "execution_count": 88,
   "id": "63dc586f-6461-4939-a231-1023bbf629dc",
   "metadata": {},
   "outputs": [
    {
     "data": {
      "text/plain": [
       "['Before',\n",
       " 'Everything Precious',\n",
       " 'A Promise',\n",
       " 'Breathe Once More',\n",
       " 'Abandoned',\n",
       " 'Tomb',\n",
       " 'East',\n",
       " 'The Opposite of Death',\n",
       " 'I See a Man',\n",
       " 'After']"
      ]
     },
     "execution_count": 88,
     "metadata": {},
     "output_type": "execute_result"
    }
   ],
   "source": [
    "pattern = re.compile(\"([a-zA-Z ,]+)\\n\\n\") # ()只返回括号里的\n",
    "findings = re.findall(pattern, book)\n",
    "findings"
   ]
  },
  {
   "cell_type": "markdown",
   "id": "d5fc8983-b96a-442e-8cf2-c93dad16a542",
   "metadata": {},
   "source": [
    "# The most used words in book"
   ]
  },
  {
   "cell_type": "code",
   "execution_count": 67,
   "id": "0d5fc4c3-6e04-44ae-8697-d215c71d3da0",
   "metadata": {},
   "outputs": [
    {
     "data": {
      "text/plain": [
       "['chapter', 'before', 'it', 'was', 'friday', 'the', 'thirteenth', 'of']"
      ]
     },
     "execution_count": 67,
     "metadata": {},
     "output_type": "execute_result"
    }
   ],
   "source": [
    "pattern = re.compile(\"[a-zA-Z]+\")\n",
    "findings = re.findall(pattern, book.lower())\n",
    "len(findings)\n",
    "findings[:8]"
   ]
  },
  {
   "cell_type": "code",
   "execution_count": 68,
   "id": "118b7b68-f85a-441e-91e7-15a377f43525",
   "metadata": {},
   "outputs": [],
   "source": [
    "# Count words\n",
    "dic = {}\n",
    "for word in findings:\n",
    "    if word not in dic:\n",
    "        dic[word] = 1\n",
    "    else:\n",
    "        dic[word] += 1\n",
    "    "
   ]
  },
  {
   "cell_type": "code",
   "execution_count": 78,
   "id": "5a6438b8-e2ec-4df1-85ec-ed5a74d301df",
   "metadata": {},
   "outputs": [
    {
     "data": {
      "text/plain": [
       "[(5346, 'the'),\n",
       " (2795, 'and'),\n",
       " (2729, 'i'),\n",
       " (2400, 'to'),\n",
       " (2060, 'of'),\n",
       " (1566, 'a'),\n",
       " (1430, 'was'),\n",
       " (1419, 'in'),\n",
       " (1226, 'we'),\n",
       " (1169, 'my')]"
      ]
     },
     "execution_count": 78,
     "metadata": {},
     "output_type": "execute_result"
    }
   ],
   "source": [
    "dic_list = [(val, key) for key, val in dic.items()]\n",
    "sorted(dic_list, reverse=True)[:10]"
   ]
  },
  {
   "cell_type": "markdown",
   "id": "08bdfb73-c688-44c3-b4ec-c937f534c057",
   "metadata": {},
   "source": [
    "# Define function to find the occurrence of the word"
   ]
  },
  {
   "cell_type": "code",
   "execution_count": 89,
   "id": "dfbd2bc9-0ac3-4bd5-819b-c92606df0ea7",
   "metadata": {},
   "outputs": [],
   "source": [
    "def find(w):\n",
    "    pattern = re.compile(\"[a-zA-Z]+\")\n",
    "    findings = re.findall(pattern, book.lower())\n",
    "    dic = {}\n",
    "    for word in findings:\n",
    "        if word not in dic:\n",
    "            dic[word] = 1\n",
    "        else:\n",
    "            dic[word] += 1\n",
    "    try:\n",
    "        return dic[w]\n",
    "    except:\n",
    "        return f\"The book does not contain the word {w}\"\n"
   ]
  },
  {
   "cell_type": "code",
   "execution_count": 90,
   "id": "40ee1b1c-37df-4c53-b74a-6a2d728c5341",
   "metadata": {},
   "outputs": [
    {
     "data": {
      "text/plain": [
       "83"
      ]
     },
     "execution_count": 90,
     "metadata": {},
     "output_type": "execute_result"
    }
   ],
   "source": [
    "find(\"love\")"
   ]
  },
  {
   "cell_type": "code",
   "execution_count": 91,
   "id": "153f7ca0-1f4a-46a2-a03a-2293bcac3e23",
   "metadata": {},
   "outputs": [
    {
     "data": {
      "text/plain": [
       "'The book does not contain the word hate'"
      ]
     },
     "execution_count": 91,
     "metadata": {},
     "output_type": "execute_result"
    }
   ],
   "source": [
    "find(\"hate\")"
   ]
  },
  {
   "cell_type": "code",
   "execution_count": null,
   "id": "dd90c336-e5dd-4311-a610-9c85fc6de214",
   "metadata": {},
   "outputs": [],
   "source": []
  }
 ],
 "metadata": {
  "kernelspec": {
   "display_name": "Python 3 (ipykernel)",
   "language": "python",
   "name": "python3"
  },
  "language_info": {
   "codemirror_mode": {
    "name": "ipython",
    "version": 3
   },
   "file_extension": ".py",
   "mimetype": "text/x-python",
   "name": "python",
   "nbconvert_exporter": "python",
   "pygments_lexer": "ipython3",
   "version": "3.9.7"
  }
 },
 "nbformat": 4,
 "nbformat_minor": 5
}
